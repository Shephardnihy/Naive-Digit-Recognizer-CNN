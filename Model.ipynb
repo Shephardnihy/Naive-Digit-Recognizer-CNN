{
  "nbformat": 4,
  "nbformat_minor": 0,
  "metadata": {
    "language_info": {
      "codemirror_mode": {
        "name": "ipython",
        "version": 3
      },
      "file_extension": ".py",
      "mimetype": "text/x-python",
      "name": "python",
      "nbconvert_exporter": "python",
      "pygments_lexer": "ipython3",
      "version": "3.8.5-final"
    },
    "orig_nbformat": 2,
    "kernelspec": {
      "name": "python3",
      "display_name": "Python 3",
      "language": "python"
    },
    "colab": {
      "name": "Model.ipynb",
      "provenance": [],
      "collapsed_sections": [],
      "toc_visible": true
    },
    "accelerator": "GPU"
  },
  "cells": [
    {
      "cell_type": "markdown",
      "metadata": {
        "id": "J0NEs-BUxISo"
      },
      "source": [
        "# Naive Implementation of Digit Recongnizer"
      ]
    },
    {
      "cell_type": "markdown",
      "metadata": {
        "id": "UngqNrFfxSBr"
      },
      "source": [
        "This notebook is my implementation of MNIST digit recognizer. Datasets are provided by Kaggle as two CSVs. The result of this implementation is uploaded to Kaggle and scored 0.98157, a pretty standard score.\r\n",
        "\r\n",
        "The aim of this notebook is for me, as a novice in deep learning, writing a CNN using pytorch from scratch.\r\n",
        "\r\n",
        "I call this implementation naive since there is no preprocessing or data augmentation, and not much hyperparameter tuning as well.\r\n",
        "\r\n",
        "As mentioned, Kaggle provided image as CSVs, so I have converted it to .npy files in a seperate script and will not be presented here."
      ]
    },
    {
      "cell_type": "markdown",
      "metadata": {
        "id": "QXaWgoOhyt28"
      },
      "source": [
        "## Import necessary packages"
      ]
    },
    {
      "cell_type": "code",
      "metadata": {
        "id": "LSS3rIb_n_9P"
      },
      "source": [
        "import numpy as np\n",
        "import torch\n",
        "from torch.utils.data import Dataset, DataLoader\n",
        "from skimage import io, transform\n",
        "import matplotlib.pyplot as plt\n",
        "import torch.nn as nn\n",
        "import torch.nn.functional as F\n",
        "import torch.optim as optim"
      ],
      "execution_count": 1,
      "outputs": []
    },
    {
      "cell_type": "markdown",
      "metadata": {
        "id": "wHvndFT8y4lF"
      },
      "source": [
        "## Use CUDA to speed up"
      ]
    },
    {
      "cell_type": "code",
      "metadata": {
        "id": "zgb7mbWKn_9X"
      },
      "source": [
        "device = torch.device('cuda')"
      ],
      "execution_count": 4,
      "outputs": []
    },
    {
      "cell_type": "markdown",
      "metadata": {
        "id": "4AKrr2yiy83s"
      },
      "source": [
        "## Setup dataset and dataloader\r\n",
        "\r\n",
        "- First define a class out of dataset class to handle each input-target pair. The aim of this class is to convert numpy array tensor and send image and label to GPU\r\n",
        "\r\n",
        "- Then define a Dataset object that load image files and labels and use ```ToTensor``` to pass samples to GPU for training"
      ]
    },
    {
      "cell_type": "code",
      "metadata": {
        "id": "47vuYodKn_9Y"
      },
      "source": [
        "class ToTensor(object):\n",
        "\n",
        "    def __call__(self, sample):\n",
        "        image, label = sample['image'], sample['label']\n",
        "        image =  torch.from_numpy(image).unsqueeze(0)\n",
        "        label = torch.tensor(label)\n",
        "        if torch.cuda.is_available():\n",
        "            device = torch.device('cuda')\n",
        "            image = image.to(device,dtype=torch.float)\n",
        "            label = label.to(device,dtype=torch.long)\n",
        "        sample = {'image':image, 'label':label}\n",
        "\n",
        "        return sample\n"
      ],
      "execution_count": 5,
      "outputs": []
    },
    {
      "cell_type": "code",
      "metadata": {
        "id": "iJCDB3Kdn_9Y"
      },
      "source": [
        "class MNISTDataset(Dataset):\n",
        "    def __init__(self, LabelFile, ImageFile, transform = ToTensor()):        \n",
        "        self.labels = np.load(LabelFile)\n",
        "        self.images = np.load(ImageFile)\n",
        "        self.transform = transform\n",
        "\n",
        "    def __len__(self):\n",
        "        # Check number of labels and images match\n",
        "        assert len(self.labels) == len(self.images)\n",
        "        return len(self.labels)\n",
        "    \n",
        "    def __getitem__(self, idx):\n",
        "        if torch.is_tensor(idx):\n",
        "            idx = idx.tolist()\n",
        "        \n",
        "        image = self.images[idx]\n",
        "        label = self.labels[idx]\n",
        "        \n",
        "        # organize image and label to one sample as dictionary\n",
        "        sample = {'image': image, 'label': label}\n",
        "        \n",
        "        if self.transform:\n",
        "            sample = self.transform(sample)\n",
        "\n",
        "        return sample"
      ],
      "execution_count": 6,
      "outputs": []
    },
    {
      "cell_type": "markdown",
      "metadata": {
        "id": "-MK6Jy8Q0Qi_"
      },
      "source": [
        "## Define network\r\n",
        "\r\n",
        "- Here we follow very simple neural network that consists of two convolution/pooling/activation layers and 3 linear layers\r\n",
        "\r\n",
        "- The output layer is set to log_softmax as this is a classification task"
      ]
    },
    {
      "cell_type": "code",
      "metadata": {
        "id": "YRzrXiK3n_9Z"
      },
      "source": [
        "class MyNet(nn.Module):\n",
        "\n",
        "    def __init__(self):\n",
        "        super(MyNet, self).__init__()\n",
        "        self.conv1 = nn.Conv2d(in_channels=1, out_channels=6, kernel_size=3, padding=1)\n",
        "        self.pool1 = nn.MaxPool2d(kernel_size=2,stride=2)\n",
        "        self.activation1 = nn.ReLU()\n",
        "        self.conv2 = nn.Conv2d(in_channels=6, out_channels=16, kernel_size=3, padding=1)\n",
        "        self.pool2 = nn.MaxPool2d(kernel_size=2,stride=2)\n",
        "        self.activation2 = nn.ReLU()\n",
        "        self.linear1 = nn.Linear(in_features=16*7*7, out_features=120)\n",
        "        self.linear2 = nn.Linear(120, 84)\n",
        "        self.linear3 = nn.Linear(84, 10)\n",
        "\n",
        "    def forward(self, x):\n",
        "        x = self.conv1(x)\n",
        "        x = self.pool1(x)\n",
        "        x = self.activation1(x)\n",
        "        x = self.conv2(x)\n",
        "        x = self.pool2(x)\n",
        "        x = self.activation2(x)\n",
        "        x = x.view(-1, 16*7*7)\n",
        "        x = self.linear1(x)\n",
        "        x = self.linear2(x)\n",
        "        x = self.linear3(x)\n",
        "        y = F.log_softmax(x)\n",
        "        return y"
      ],
      "execution_count": 7,
      "outputs": []
    },
    {
      "cell_type": "markdown",
      "metadata": {
        "id": "FVlbpmLw0tix"
      },
      "source": [
        "## Setup for training"
      ]
    },
    {
      "cell_type": "markdown",
      "metadata": {
        "id": "a95yrbAj0v9l"
      },
      "source": [
        "Load Training Dataset"
      ]
    },
    {
      "cell_type": "code",
      "metadata": {
        "id": "gAzCtzZtn_9Z"
      },
      "source": [
        "TrainDataset = MNISTDataset(\"./train_labels.npy\", \"./train_images.npy\")"
      ],
      "execution_count": 8,
      "outputs": []
    },
    {
      "cell_type": "code",
      "metadata": {
        "id": "1CyHvoXyn_9a"
      },
      "source": [
        "TrainLoader = DataLoader(TrainDataset, batch_size=10, shuffle=True,num_workers=0)"
      ],
      "execution_count": 10,
      "outputs": []
    },
    {
      "cell_type": "markdown",
      "metadata": {
        "id": "PVWqBIgB0z6o"
      },
      "source": [
        "Initialize network and send it to GPU"
      ]
    },
    {
      "cell_type": "code",
      "metadata": {
        "id": "wzP6gbp-n_9a"
      },
      "source": [
        "net = MyNet().to(device)"
      ],
      "execution_count": 11,
      "outputs": []
    },
    {
      "cell_type": "markdown",
      "metadata": {
        "id": "ap3jYI3004Si"
      },
      "source": [
        "A quick preview of network"
      ]
    },
    {
      "cell_type": "code",
      "metadata": {
        "colab": {
          "base_uri": "https://localhost:8080/"
        },
        "id": "RB0ZqTVfn_9b",
        "outputId": "cf373b96-b961-4cba-f45d-1b1f25673a36"
      },
      "source": [
        "net"
      ],
      "execution_count": 12,
      "outputs": [
        {
          "output_type": "execute_result",
          "data": {
            "text/plain": [
              "MyNet(\n",
              "  (conv1): Conv2d(1, 6, kernel_size=(3, 3), stride=(1, 1), padding=(1, 1))\n",
              "  (pool1): MaxPool2d(kernel_size=2, stride=2, padding=0, dilation=1, ceil_mode=False)\n",
              "  (activation1): ReLU()\n",
              "  (conv2): Conv2d(6, 16, kernel_size=(3, 3), stride=(1, 1), padding=(1, 1))\n",
              "  (pool2): MaxPool2d(kernel_size=2, stride=2, padding=0, dilation=1, ceil_mode=False)\n",
              "  (activation2): ReLU()\n",
              "  (linear1): Linear(in_features=784, out_features=120, bias=True)\n",
              "  (linear2): Linear(in_features=120, out_features=84, bias=True)\n",
              "  (linear3): Linear(in_features=84, out_features=10, bias=True)\n",
              ")"
            ]
          },
          "metadata": {
            "tags": []
          },
          "execution_count": 12
        }
      ]
    },
    {
      "cell_type": "markdown",
      "metadata": {
        "id": "ZN3uJASR07sR"
      },
      "source": [
        "Initialize optimizer, here we use ADAM"
      ]
    },
    {
      "cell_type": "code",
      "metadata": {
        "id": "qwLgSbUUn_9c"
      },
      "source": [
        "optimizer = optim.Adam(net.parameters())"
      ],
      "execution_count": 13,
      "outputs": []
    },
    {
      "cell_type": "markdown",
      "metadata": {
        "id": "gn48WXZ40_eb"
      },
      "source": [
        "## Start training"
      ]
    },
    {
      "cell_type": "markdown",
      "metadata": {
        "id": "JFSFSbf_1F_X"
      },
      "source": [
        "Here we train the training set for 20 epochs and print mean loss for 2000 batches for each epoch.\r\n",
        "\r\n",
        "Choice of loss is __negative log likelihood loss__ since maximizing likelihood principle is equivalently minimizing negative likelihood. Logarithm does not change the properties of the function, like local minima and monotonicity, but it convert multiplication to addition, which is mathematically more simplified."
      ]
    },
    {
      "cell_type": "code",
      "metadata": {
        "id": "phpzv911n_9c"
      },
      "source": [
        "for epoch in range(20):\n",
        "    running_loss = 0.0\n",
        "    for batch_idx, sample in enumerate(TrainLoader):\n",
        "        image, label = sample['image'], sample['label']\n",
        "        optimizer.zero_grad()\n",
        "        output = net(image)\n",
        "        loss = F.nll_loss(output, label)\n",
        "        loss.backward()\n",
        "        optimizer.step()\n",
        "\n",
        "        running_loss+=loss.item()\n",
        "        if batch_idx%2000 == 1999:\n",
        "            print('[%d, %5d] loss: %.3f' %\n",
        "                  (epoch + 1, batch_idx + 1, running_loss / 2000))\n",
        "            running_loss = 0.0\n",
        "print(\"Finished Training\")"
      ],
      "execution_count": null,
      "outputs": []
    },
    {
      "cell_type": "markdown",
      "metadata": {
        "id": "KaHzLIGz2HnH"
      },
      "source": []
    },
    {
      "cell_type": "markdown",
      "metadata": {
        "id": "B7rj2ReX2EgI"
      },
      "source": [
        "## Apply model trained on test dataset\r\n"
      ]
    },
    {
      "cell_type": "markdown",
      "metadata": {
        "id": "-ZkceaeP4jtV"
      },
      "source": [
        "First read in test dataset image. We can see there are 28,000 images in the dataset."
      ]
    },
    {
      "cell_type": "code",
      "metadata": {
        "colab": {
          "base_uri": "https://localhost:8080/"
        },
        "id": "k9S4q9Djn_9d",
        "outputId": "dd8a9a91-d412-49fa-dafd-deb047ac0391"
      },
      "source": [
        "test_images = np.load('./test_data.npy')"
      ],
      "execution_count": null,
      "outputs": [
        {
          "output_type": "execute_result",
          "data": {
            "text/plain": [
              "(28000, 28, 28)"
            ]
          },
          "metadata": {
            "tags": []
          },
          "execution_count": 13
        }
      ]
    },
    {
      "cell_type": "markdown",
      "metadata": {
        "id": "UKHEvOvF4o8H"
      },
      "source": [
        "Set model as evaluation mode not training mode"
      ]
    },
    {
      "cell_type": "code",
      "metadata": {
        "colab": {
          "base_uri": "https://localhost:8080/"
        },
        "id": "l6m1XkHbn_9d",
        "outputId": "6b79eb3d-b67f-4037-a2e8-cef8216189e5"
      },
      "source": [
        "net.eval()"
      ],
      "execution_count": null,
      "outputs": [
        {
          "output_type": "execute_result",
          "data": {
            "text/plain": [
              "MyNet(\n",
              "  (conv1): Conv2d(1, 6, kernel_size=(3, 3), stride=(1, 1), padding=(1, 1))\n",
              "  (pool1): MaxPool2d(kernel_size=2, stride=2, padding=0, dilation=1, ceil_mode=False)\n",
              "  (activation1): ReLU()\n",
              "  (conv2): Conv2d(6, 16, kernel_size=(3, 3), stride=(1, 1), padding=(1, 1))\n",
              "  (pool2): MaxPool2d(kernel_size=2, stride=2, padding=0, dilation=1, ceil_mode=False)\n",
              "  (activation2): ReLU()\n",
              "  (linear1): Linear(in_features=784, out_features=120, bias=True)\n",
              "  (linear2): Linear(in_features=120, out_features=84, bias=True)\n",
              "  (linear3): Linear(in_features=84, out_features=10, bias=True)\n",
              ")"
            ]
          },
          "metadata": {
            "tags": []
          },
          "execution_count": 14
        }
      ]
    },
    {
      "cell_type": "markdown",
      "metadata": {
        "id": "tY5r1B0I4v8A"
      },
      "source": [
        "Predict image label using the model we trained. Here, the output of the model is an array with size 10. The index of the max element in this array is the prediction of the corresponding digit of the input image."
      ]
    },
    {
      "cell_type": "code",
      "metadata": {
        "colab": {
          "base_uri": "https://localhost:8080/"
        },
        "id": "oNQ0Flr5n_9g",
        "outputId": "1748dc59-116d-42a3-cba2-82ddce812227"
      },
      "source": [
        "predictions = []\n",
        "for i in range(len(test_images)):\n",
        "    sample = torch.from_numpy(test_images[i]).to(device,dtype=torch.float)\n",
        "    sample = sample.unsqueeze(0).unsqueeze(0)\n",
        "    output = net(sample)\n",
        "    _,predicted = torch.max(output,1)\n",
        "    predictions.append(predicted.item())"
      ],
      "execution_count": null,
      "outputs": [
        {
          "output_type": "stream",
          "text": [
            "/usr/local/lib/python3.6/dist-packages/ipykernel_launcher.py:26: UserWarning: Implicit dimension choice for log_softmax has been deprecated. Change the call to include dim=X as an argument.\n"
          ],
          "name": "stderr"
        }
      ]
    },
    {
      "cell_type": "markdown",
      "metadata": {
        "id": "dcCBaVYB5sBf"
      },
      "source": [
        "## Formulate output for submission"
      ]
    },
    {
      "cell_type": "markdown",
      "metadata": {
        "id": "_Ul-ZeKH5vo9"
      },
      "source": [
        "First import pandas"
      ]
    },
    {
      "cell_type": "code",
      "metadata": {
        "id": "fDeVpiV4n_9i"
      },
      "source": [
        "import pandas as pd"
      ],
      "execution_count": null,
      "outputs": []
    },
    {
      "cell_type": "markdown",
      "metadata": {
        "id": "xSIa9c4njh9X"
      },
      "source": [
        "Create index column as 'ImageId' and prediction column as 'Label'. Formulate this two columns as pandas dataframe and export to .csv"
      ]
    },
    {
      "cell_type": "code",
      "metadata": {
        "id": "X6uKenMDn_9i"
      },
      "source": [
        "index = np.arange(1,28001,dtype=int)"
      ],
      "execution_count": null,
      "outputs": []
    },
    {
      "cell_type": "code",
      "metadata": {
        "id": "nFwBDOrKn_9j"
      },
      "source": [
        "d = {'ImageId':index, 'Label':predictions}"
      ],
      "execution_count": null,
      "outputs": []
    },
    {
      "cell_type": "code",
      "metadata": {
        "id": "KNPnmP8nn_9j"
      },
      "source": [
        "df = pd.DataFrame(d)"
      ],
      "execution_count": null,
      "outputs": []
    },
    {
      "cell_type": "code",
      "metadata": {
        "colab": {
          "base_uri": "https://localhost:8080/"
        },
        "id": "tly8-MEWn_9j",
        "outputId": "232bec19-8499-4273-c3b2-ed2a0f1b69b3"
      },
      "source": [
        "df"
      ],
      "execution_count": null,
      "outputs": [
        {
          "output_type": "execute_result",
          "data": {
            "text/html": [
              "<div>\n",
              "<style scoped>\n",
              "    .dataframe tbody tr th:only-of-type {\n",
              "        vertical-align: middle;\n",
              "    }\n",
              "\n",
              "    .dataframe tbody tr th {\n",
              "        vertical-align: top;\n",
              "    }\n",
              "\n",
              "    .dataframe thead th {\n",
              "        text-align: right;\n",
              "    }\n",
              "</style>\n",
              "<table border=\"1\" class=\"dataframe\">\n",
              "  <thead>\n",
              "    <tr style=\"text-align: right;\">\n",
              "      <th></th>\n",
              "      <th>ImageId</th>\n",
              "      <th>Label</th>\n",
              "    </tr>\n",
              "  </thead>\n",
              "  <tbody>\n",
              "    <tr>\n",
              "      <th>0</th>\n",
              "      <td>1</td>\n",
              "      <td>2</td>\n",
              "    </tr>\n",
              "    <tr>\n",
              "      <th>1</th>\n",
              "      <td>2</td>\n",
              "      <td>0</td>\n",
              "    </tr>\n",
              "    <tr>\n",
              "      <th>2</th>\n",
              "      <td>3</td>\n",
              "      <td>9</td>\n",
              "    </tr>\n",
              "    <tr>\n",
              "      <th>3</th>\n",
              "      <td>4</td>\n",
              "      <td>0</td>\n",
              "    </tr>\n",
              "    <tr>\n",
              "      <th>4</th>\n",
              "      <td>5</td>\n",
              "      <td>3</td>\n",
              "    </tr>\n",
              "    <tr>\n",
              "      <th>...</th>\n",
              "      <td>...</td>\n",
              "      <td>...</td>\n",
              "    </tr>\n",
              "    <tr>\n",
              "      <th>27995</th>\n",
              "      <td>27996</td>\n",
              "      <td>9</td>\n",
              "    </tr>\n",
              "    <tr>\n",
              "      <th>27996</th>\n",
              "      <td>27997</td>\n",
              "      <td>7</td>\n",
              "    </tr>\n",
              "    <tr>\n",
              "      <th>27997</th>\n",
              "      <td>27998</td>\n",
              "      <td>3</td>\n",
              "    </tr>\n",
              "    <tr>\n",
              "      <th>27998</th>\n",
              "      <td>27999</td>\n",
              "      <td>9</td>\n",
              "    </tr>\n",
              "    <tr>\n",
              "      <th>27999</th>\n",
              "      <td>28000</td>\n",
              "      <td>2</td>\n",
              "    </tr>\n",
              "  </tbody>\n",
              "</table>\n",
              "<p>28000 rows × 2 columns</p>\n",
              "</div>"
            ],
            "text/plain": [
              "       ImageId  Label\n",
              "0            1      2\n",
              "1            2      0\n",
              "2            3      9\n",
              "3            4      0\n",
              "4            5      3\n",
              "...        ...    ...\n",
              "27995    27996      9\n",
              "27996    27997      7\n",
              "27997    27998      3\n",
              "27998    27999      9\n",
              "27999    28000      2\n",
              "\n",
              "[28000 rows x 2 columns]"
            ]
          },
          "metadata": {
            "tags": []
          },
          "execution_count": 20
        }
      ]
    },
    {
      "cell_type": "code",
      "metadata": {
        "id": "RjwEqd3Vn_9k"
      },
      "source": [
        "df.to_csv('submission.csv',index=False)"
      ],
      "execution_count": null,
      "outputs": []
    },
    {
      "cell_type": "code",
      "metadata": {
        "id": "BONew201n_9k"
      },
      "source": [],
      "execution_count": null,
      "outputs": []
    }
  ]
}